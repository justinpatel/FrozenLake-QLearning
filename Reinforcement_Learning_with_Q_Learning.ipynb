{
  "nbformat": 4,
  "nbformat_minor": 0,
  "metadata": {
    "colab": {
      "name": "Reinforcement Learning with Q-Learning.ipynb",
      "provenance": [],
      "authorship_tag": "ABX9TyPa3FUFROGuDPGrfC4TsXb4",
      "include_colab_link": true
    },
    "kernelspec": {
      "name": "python3",
      "display_name": "Python 3"
    },
    "accelerator": "GPU"
  },
  "cells": [
    {
      "cell_type": "markdown",
      "metadata": {
        "id": "view-in-github",
        "colab_type": "text"
      },
      "source": [
        "<a href=\"https://colab.research.google.com/github/justinpatel/FrozenLake-QLearning/blob/master/Reinforcement_Learning_with_Q_Learning.ipynb\" target=\"_parent\"><img src=\"https://colab.research.google.com/assets/colab-badge.svg\" alt=\"Open In Colab\"/></a>"
      ]
    },
    {
      "cell_type": "code",
      "metadata": {
        "id": "-JtbECSUCsAT",
        "colab_type": "code",
        "colab": {}
      },
      "source": [
        "import gym\n",
        "import numpy as np\n",
        "import time\n",
        "from IPython.display import clear_output"
      ],
      "execution_count": 1,
      "outputs": []
    },
    {
      "cell_type": "code",
      "metadata": {
        "id": "2Ux9NqWYC3Fz",
        "colab_type": "code",
        "colab": {}
      },
      "source": [
        "env = gym.make(\"FrozenLake-v0\")"
      ],
      "execution_count": 2,
      "outputs": []
    },
    {
      "cell_type": "code",
      "metadata": {
        "id": "SqUycb1RDQNJ",
        "colab_type": "code",
        "colab": {
          "base_uri": "https://localhost:8080/",
          "height": 50
        },
        "outputId": "7d40d7dc-50be-4652-f636-e069eb2af99b"
      },
      "source": [
        "print(env.observation_space.n) #no of states\n",
        "print(env.action_space.n)      #no of actions"
      ],
      "execution_count": 9,
      "outputs": [
        {
          "output_type": "stream",
          "text": [
            "16\n",
            "4\n"
          ],
          "name": "stdout"
        }
      ]
    },
    {
      "cell_type": "code",
      "metadata": {
        "id": "cwl_ldk1DUwD",
        "colab_type": "code",
        "colab": {
          "base_uri": "https://localhost:8080/",
          "height": 34
        },
        "outputId": "ac108656-782a-4000-bdb5-29bf1cd96692"
      },
      "source": [
        "action = env.action_space.sample()\n",
        "action"
      ],
      "execution_count": 25,
      "outputs": [
        {
          "output_type": "execute_result",
          "data": {
            "text/plain": [
              "3"
            ]
          },
          "metadata": {
            "tags": []
          },
          "execution_count": 25
        }
      ]
    },
    {
      "cell_type": "code",
      "metadata": {
        "id": "hHBaoyuqEGHq",
        "colab_type": "code",
        "colab": {
          "base_uri": "https://localhost:8080/",
          "height": 34
        },
        "outputId": "bf782a9b-91f4-4556-f9b2-e13abcf871d5"
      },
      "source": [
        "env.reset()"
      ],
      "execution_count": 14,
      "outputs": [
        {
          "output_type": "execute_result",
          "data": {
            "text/plain": [
              "0"
            ]
          },
          "metadata": {
            "tags": []
          },
          "execution_count": 14
        }
      ]
    },
    {
      "cell_type": "code",
      "metadata": {
        "id": "aznkDOuVD3g9",
        "colab_type": "code",
        "colab": {}
      },
      "source": [
        "new_state, reward, done, info = env.step(action)"
      ],
      "execution_count": 26,
      "outputs": []
    },
    {
      "cell_type": "code",
      "metadata": {
        "id": "1B1zjvbuEEOk",
        "colab_type": "code",
        "colab": {
          "base_uri": "https://localhost:8080/",
          "height": 34
        },
        "outputId": "0e8b6d98-00ad-47e0-b76c-3de0f9bc5b95"
      },
      "source": [
        "env.reset()"
      ],
      "execution_count": 3,
      "outputs": [
        {
          "output_type": "execute_result",
          "data": {
            "text/plain": [
              "0"
            ]
          },
          "metadata": {
            "tags": []
          },
          "execution_count": 3
        }
      ]
    },
    {
      "cell_type": "code",
      "metadata": {
        "id": "QRaYiInDELXb",
        "colab_type": "code",
        "colab": {
          "base_uri": "https://localhost:8080/",
          "height": 101
        },
        "outputId": "ecfeb1ba-2901-45fd-ff91-220cafc50531"
      },
      "source": [
        "env.render()\n",
        "# S is starting position\n",
        "# F is Frozen lake\n",
        "# H is hole\n",
        "# G is goal"
      ],
      "execution_count": 4,
      "outputs": [
        {
          "output_type": "stream",
          "text": [
            "\n",
            "\u001b[41mS\u001b[0mFFF\n",
            "FHFH\n",
            "FFFH\n",
            "HFFG\n"
          ],
          "name": "stdout"
        }
      ]
    },
    {
      "cell_type": "code",
      "metadata": {
        "id": "Z40WWpx5EVlA",
        "colab_type": "code",
        "colab": {}
      },
      "source": [
        "STATES = env.observation_space.n\n",
        "ACTIONS = env.action_space.n\n",
        "\n",
        "Q = np.zeros((STATES, ACTIONS))"
      ],
      "execution_count": 5,
      "outputs": []
    },
    {
      "cell_type": "code",
      "metadata": {
        "id": "M2H0YMdlFIfl",
        "colab_type": "code",
        "colab": {}
      },
      "source": [
        "EPISODES = 2000  #no of times run the environment from beginning\n",
        "MAX_STEPS = 100  #no of max steps allowed for each run of environment \n",
        "\n",
        "LEARNING_RATE = 0.8\n",
        "GAMMA = 0.96\n",
        "\n",
        "RENDER = False\n",
        "\n",
        "epsilon = 0.9  #90% chance of taking random sample of action"
      ],
      "execution_count": 9,
      "outputs": []
    },
    {
      "cell_type": "markdown",
      "metadata": {
        "id": "PGy0ibVqISk2",
        "colab_type": "text"
      },
      "source": [
        "Q[state, action] = Q[state, action] + learning_rate * (reward + GAMMA * np.max(Q[new_state, :]) - Q[state, action])"
      ]
    },
    {
      "cell_type": "code",
      "metadata": {
        "id": "QkT3hqQeFJlO",
        "colab_type": "code",
        "colab": {}
      },
      "source": [
        "rewards = []\n",
        "\n",
        "for episode in range(EPISODES):\n",
        "  state = env.reset()\n",
        "\n",
        "  for _ in range(MAX_STEPS):\n",
        "    clear_output(wait=True)\n",
        "    if RENDER:\n",
        "      env.render()\n",
        "      time.sleep(0.3)\n",
        "\n",
        "    if np.random.uniform(0,1) < epsilon:\n",
        "      action = env.action_space.sample()\n",
        "    else:\n",
        "      action = np.argmax(Q[state, :])\n",
        "\n",
        "    next_state, reward, done, _ = env.step(action)\n",
        "\n",
        "    Q[state, action] = Q[state, action] + LEARNING_RATE * (reward + GAMMA * np.max(Q[next_state, :]) - Q[state, action])\n",
        "\n",
        "    state = next_state\n",
        "\n",
        "    if done:\n",
        "      rewards.append(reward)\n",
        "      epsilon -= 0.001\n",
        "      break"
      ],
      "execution_count": 11,
      "outputs": []
    },
    {
      "cell_type": "code",
      "metadata": {
        "id": "_2fDrCQKLWnO",
        "colab_type": "code",
        "colab": {
          "base_uri": "https://localhost:8080/",
          "height": 286
        },
        "outputId": "1feb1027-516c-4031-cb8b-dc6fd71485a0"
      },
      "source": [
        "print(Q)"
      ],
      "execution_count": 12,
      "outputs": [
        {
          "output_type": "stream",
          "text": [
            "[[1.22527717e-01 5.92099418e-03 6.40658173e-03 6.26125954e-03]\n",
            " [1.23726325e-03 1.39236640e-03 1.12883471e-03 2.05140462e-01]\n",
            " [3.21733684e-03 4.59810802e-03 2.54554209e-03 4.75811704e-01]\n",
            " [1.47893547e-03 9.48134697e-04 1.03279523e-03 5.96673618e-02]\n",
            " [1.62469091e-01 1.51632213e-03 1.71408162e-03 2.29740096e-03]\n",
            " [0.00000000e+00 0.00000000e+00 0.00000000e+00 0.00000000e+00]\n",
            " [2.75099959e-01 8.14763919e-06 1.04108595e-05 5.79425724e-06]\n",
            " [0.00000000e+00 0.00000000e+00 0.00000000e+00 0.00000000e+00]\n",
            " [1.23302123e-03 2.95769876e-03 1.24084961e-03 3.95453569e-01]\n",
            " [8.95304664e-04 1.74755253e-01 3.84995038e-03 1.11682863e-03]\n",
            " [7.97734687e-01 1.11448457e-03 6.22052737e-04 6.12841671e-04]\n",
            " [0.00000000e+00 0.00000000e+00 0.00000000e+00 0.00000000e+00]\n",
            " [0.00000000e+00 0.00000000e+00 0.00000000e+00 0.00000000e+00]\n",
            " [1.96620919e-02 3.26332555e-02 7.75283147e-01 2.83249577e-02]\n",
            " [1.85563899e-01 9.98543673e-01 1.92245790e-01 1.11596075e-01]\n",
            " [0.00000000e+00 0.00000000e+00 0.00000000e+00 0.00000000e+00]]\n"
          ],
          "name": "stdout"
        }
      ]
    },
    {
      "cell_type": "code",
      "metadata": {
        "id": "dWtnCe9uLnz2",
        "colab_type": "code",
        "colab": {
          "base_uri": "https://localhost:8080/",
          "height": 34
        },
        "outputId": "729a5c6e-910a-49c9-9bfc-8172e220f378"
      },
      "source": [
        "print(np.average(rewards))"
      ],
      "execution_count": 13,
      "outputs": [
        {
          "output_type": "stream",
          "text": [
            "0.406\n"
          ],
          "name": "stdout"
        }
      ]
    },
    {
      "cell_type": "code",
      "metadata": {
        "id": "f9cjGD_WP5MW",
        "colab_type": "code",
        "colab": {}
      },
      "source": [
        ""
      ],
      "execution_count": null,
      "outputs": []
    }
  ]
}